{
 "cells": [
  {
   "cell_type": "code",
   "execution_count": 1,
   "metadata": {},
   "outputs": [],
   "source": [
    "import numpy as np"
   ]
  },
  {
   "cell_type": "code",
   "execution_count": 25,
   "metadata": {},
   "outputs": [],
   "source": [
    "def groundtruth_process():\n",
    "    with open(\"set1.test.txt\",\"r\") as f:\n",
    "        m = f.readlines()\n",
    "        result = []\n",
    "        node = []\n",
    "        start = 0\n",
    "        cnt = 0\n",
    "        present = '0'\n",
    "        for i in m:\n",
    "            result.append(i[0:1])\n",
    "            if i[6:11] != present:\n",
    "                present = i[6:11]\n",
    "                node.append([start, cnt])\n",
    "                start = cnt + 1\n",
    "            cnt = cnt + 1\n",
    "        return (list(map(int,result))), node  #to integer\n",
    "#         return result, node"
   ]
  },
  {
   "cell_type": "code",
   "execution_count": 26,
   "metadata": {},
   "outputs": [],
   "source": [
    "gt, node = groundtruth_process()\n",
    "node = node[1:len(node)]"
   ]
  },
  {
   "cell_type": "code",
   "execution_count": 27,
   "metadata": {
    "scrolled": true
   },
   "outputs": [
    {
     "name": "stdout",
     "output_type": "stream",
     "text": [
      "165660\n"
     ]
    }
   ],
   "source": [
    "print(len(gt))\n",
    "# gt[1:100]"
   ]
  },
  {
   "cell_type": "code",
   "execution_count": 28,
   "metadata": {},
   "outputs": [],
   "source": [
    "def prediction_process():    \n",
    "    with open(\"prediction1.txt\",\"r\") as f:        \n",
    "        m = f.readlines()\n",
    "        result=[]\n",
    "        for i in m:                            \n",
    "            result.append(float(i[:-2]))\n",
    "        return result"
   ]
  },
  {
   "cell_type": "code",
   "execution_count": 29,
   "metadata": {},
   "outputs": [],
   "source": [
    "prediction = prediction_process()"
   ]
  },
  {
   "cell_type": "code",
   "execution_count": 19,
   "metadata": {
    "scrolled": true
   },
   "outputs": [
    {
     "data": {
      "text/plain": [
       "103174"
      ]
     },
     "execution_count": 19,
     "metadata": {},
     "output_type": "execute_result"
    }
   ],
   "source": [
    "len(prediction)\n",
    "# prediction"
   ]
  },
  {
   "cell_type": "code",
   "execution_count": 30,
   "metadata": {},
   "outputs": [],
   "source": [
    "def ndcg(y_score, y_true, k):\n",
    "    order = np.argsort(y_score)[::-1]\n",
    "#     print(order)\n",
    "    y_true = np.take(y_true, order[:k])\n",
    "#     print(y_true)\n",
    "    \n",
    "    gain = 2 ** y_true - 1\n",
    "    discounts = np.log2(np.arange(len(y_true)) + 2)\n",
    "#     print(discounts)\n",
    "    return np.sum(gain / discounts)\n",
    "    \n",
    "# mean_ndcg = sum(ndcg(query) for query in queries) / len(queries)"
   ]
  },
  {
   "cell_type": "code",
   "execution_count": 31,
   "metadata": {},
   "outputs": [],
   "source": [
    "def dcg_sum(prediction, gt, node, k):\n",
    "    res = 0\n",
    "    for i in node:\n",
    "        start_node = i[0]\n",
    "        end_node = i[1]\n",
    "        res = res + ndcg(prediction[start_node:end_node], gt[start_node:end_node], k)\n",
    "    return res"
   ]
  },
  {
   "cell_type": "code",
   "execution_count": 32,
   "metadata": {},
   "outputs": [],
   "source": [
    "def idcg_sum(prediction, gt, node, k):\n",
    "    res = 0\n",
    "    for i in node:\n",
    "        start_node = i[0]\n",
    "        end_node = i[1]\n",
    "        res = res + ndcg(gt[start_node:end_node], gt[start_node:end_node], k)\n",
    "    return res"
   ]
  },
  {
   "cell_type": "code",
   "execution_count": 24,
   "metadata": {},
   "outputs": [
    {
     "name": "stdout",
     "output_type": "stream",
     "text": [
      "dcg 48303.30568835443 idcg 63085.494167022705 0.7656800715623859\n"
     ]
    }
   ],
   "source": [
    "dcg2 = dcg_sum(prediction, gt, node, 10)\n",
    "idcg2 = idcg_sum(prediction, gt, node, 10)\n",
    "print('dcg2', dcg2, 'idcg2', idcg2, dcg2/idcg2)"
   ]
  },
  {
   "cell_type": "code",
   "execution_count": 34,
   "metadata": {},
   "outputs": [
    {
     "name": "stdout",
     "output_type": "stream",
     "text": [
      "dcg1 90151.14957388728 idcg1 121070.37717849485 0.7446177312306284\n"
     ]
    }
   ],
   "source": [
    "dcg1 = dcg_sum(prediction, gt, node, 10)\n",
    "idcg1 = idcg_sum(prediction, gt, node, 10)\n",
    "print('dcg1', dcg1, 'idcg1', idcg1, dcg1/idcg1)"
   ]
  },
  {
   "cell_type": "code",
   "execution_count": 35,
   "metadata": {},
   "outputs": [
    {
     "data": {
      "text/plain": [
       "0.7518329676411469"
      ]
     },
     "execution_count": 35,
     "metadata": {},
     "output_type": "execute_result"
    }
   ],
   "source": [
    "(dcg1 + dcg2)/(idcg1 + idcg2)"
   ]
  },
  {
   "cell_type": "code",
   "execution_count": 36,
   "metadata": {},
   "outputs": [
    {
     "data": {
      "text/plain": [
       "268834"
      ]
     },
     "execution_count": 36,
     "metadata": {},
     "output_type": "execute_result"
    }
   ],
   "source": [
    "165660 + 103174"
   ]
  },
  {
   "cell_type": "code",
   "execution_count": null,
   "metadata": {},
   "outputs": [],
   "source": []
  }
 ],
 "metadata": {
  "kernelspec": {
   "display_name": "Python 3",
   "language": "python",
   "name": "python3"
  },
  "language_info": {
   "codemirror_mode": {
    "name": "ipython",
    "version": 3
   },
   "file_extension": ".py",
   "mimetype": "text/x-python",
   "name": "python",
   "nbconvert_exporter": "python",
   "pygments_lexer": "ipython3",
   "version": "3.7.4"
  }
 },
 "nbformat": 4,
 "nbformat_minor": 2
}
